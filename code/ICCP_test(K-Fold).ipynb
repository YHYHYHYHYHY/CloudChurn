{
 "cells": [
  {
   "cell_type": "code",
   "execution_count": 1,
   "id": "c75a6b44-b570-4f29-95b9-df7e1aec04c0",
   "metadata": {},
   "outputs": [],
   "source": [
    "import numpy as np\n",
    "import pandas as pd\n",
    "import datetime\n",
    "from tqdm import tqdm\n",
    "import time\n",
    "from datetime import datetime, timedelta\n",
    "import shutil\n",
    "import warnings\n",
    "import matplotlib.pyplot as plt\n",
    "import matplotlib.dates as mdates\n",
    "import matplotlib.ticker as ticker\n",
    "import statsmodels.tsa.api as tsa\n",
    "import torch\n",
    "from pandarallel import pandarallel\n",
    "import seaborn as sns\n",
    "from statsmodels.nonparametric.smoothers_lowess import lowess\n",
    "from sklearn.preprocessing import StandardScaler\n",
    "\n"
   ]
  },
  {
   "cell_type": "code",
   "execution_count": 2,
   "id": "f2a98930-f509-4459-b3f6-9786b6d65c72",
   "metadata": {},
   "outputs": [],
   "source": [
    "X_order = np.load('tmp/sorted_order.npy')\n",
    "X_page = np.load('tmp/sorted_page_day60.npy')\n",
    "X_metric = np.load('tmp/sorted_metric.npy')\n",
    "y = np.load('tmp/sorted_label.npy')"
   ]
  },
  {
   "cell_type": "code",
   "execution_count": 4,
   "id": "319144ed-51eb-4240-a984-3ca1e27a5d9f",
   "metadata": {},
   "outputs": [],
   "source": [
    "import argparse\n",
    "parser = argparse.ArgumentParser()\n",
    "parser.add_argument('--d_model', type=int, default=128, help='dimension of model')\n",
    "parser.add_argument('--e_layers', type=int, default=3, help='num of encoder layers')\n",
    "parser.add_argument('--seq_len', type=int, default=60, help='input sequence length')\n",
    "parser.add_argument('--dropout', type=float, default=0.3, help='dropout')\n",
    "parser.add_argument('--n_head', type=int, default=8, help='num of heads')\n",
    "parser.add_argument('--ffn_hidden', type=int, default=512, help='dimension of hidden layer')\n",
    "parser.add_argument('--batch_size', type=int, default=64, help='batch size')\n",
    "parser.add_argument('--epochs', type=int, default=20, help='training epochs')\n",
    "parser.add_argument('--lr', type=float, default=1e-3, help='learning rate')\n",
    "parser.add_argument('--val_rate', type=float, default=0.1, help='validation rate')\n",
    "parser.add_argument('--n_components', type=int, default=450)\n",
    "parser.add_argument('--d_seq', type=int, default=18)\n",
    "parser.add_argument('--d_light_in', type=int, default=32)\n",
    "parser.add_argument('--d_emb', type=int, default=2)\n",
    "parser.add_argument('--d_light_tar', type=int, default=1)\n",
    "\n",
    "args = parser.parse_args(args = [])"
   ]
  },
  {
   "cell_type": "code",
   "execution_count": null,
   "id": "3f3611f7-1717-4f9d-abf4-3c81de91d421",
   "metadata": {},
   "outputs": [],
   "source": [
    "%run models/ICCP.py\n",
    "k = 10\n",
    "from sklearn.model_selection import StratifiedKFold\n",
    "f1_list = []\n",
    "auc_list = []\n",
    "sfolder = StratifiedKFold(n_splits=k, shuffle=True)\n",
    "fold_count = 1\n",
    "for train_index, test_index in sfolder.split(np.arange(y.shape[0]), y):\n",
    "    print(\"--------------------- fold {} ----------------------\".format(fold_count))\n",
    "    fold_count += 1\n",
    "    X_train_order = []\n",
    "    X_test_order = []\n",
    "    X_train_page = []\n",
    "    X_test_page = []\n",
    "    X_train_metric = []\n",
    "    X_test_metric = []\n",
    "    y_train = []\n",
    "    y_test = []\n",
    "\n",
    "\n",
    "    for id in train_index:\n",
    "        X_train_order.append(X_order[id])\n",
    "        X_train_page.append(X_page[id])\n",
    "        X_train_metric.append(X_metric[id])\n",
    "        y_train.append(y[id])\n",
    "\n",
    "    for id in test_index:\n",
    "        X_test_order.append(X_order[id])\n",
    "        X_test_page.append(X_page[id])\n",
    "        X_test_metric.append(X_metric[id])\n",
    "        y_test.append(y[id])\n",
    "\n",
    "    X_train_order = np.array(X_train_order)\n",
    "    X_train_page = np.array(X_train_page)\n",
    "    X_train_metric = np.array(X_train_metric)\n",
    "    X_test_order = np.array(X_test_order)\n",
    "    X_test_page = np.array(X_test_page)\n",
    "    X_test_metric = np.array(X_test_metric)\n",
    "\n",
    "    y_train = np.array(y_train)\n",
    "    y_test = np.array(y_test)\n",
    "    \n",
    "    scale = False\n",
    "    if scale:\n",
    "        from sklearn.preprocessing import MinMaxScaler\n",
    "        min_max_scaler = MinMaxScaler()\n",
    "        X_train_order = min_max_scaler.fit_transform(X_train_order)\n",
    "        X_test_order = min_max_scaler.transform(X_test_order)\n",
    "    \n",
    "    \n",
    "    X_train_both = np.hstack((X_train_order, X_train_page.reshape(X_train_page.shape[0], -1)))\n",
    "    X_test_both = np.hstack((X_test_order, X_test_page.reshape(X_test_page.shape[0], -1)))\n",
    "    \n",
    "    # --------------- ICCP Test ---------------------------------------------------\n",
    "    \n",
    "    args.verbose = False\n",
    "    exp = Exp(args)\n",
    "    exp.train(X_train_both, X_train_metric, y_train)\n",
    "    f1, auc = exp.get_metric(X_test_both, X_test_metric, y_test)\n",
    "    exp.predict(X_test_both, X_test_metric, y_test)\n",
    "    f1_list.append(maxf1)\n",
    "    auc_list.append(maxauc)\n",
    "        \n",
    "    "
   ]
  },
  {
   "cell_type": "code",
   "execution_count": null,
   "id": "9c48d844-b5df-43ec-bedc-e085042465f0",
   "metadata": {},
   "outputs": [],
   "source": [
    "f1_list"
   ]
  },
  {
   "cell_type": "code",
   "execution_count": null,
   "id": "dc6a4fa0-db7a-4fb2-b0e1-770735ce2360",
   "metadata": {},
   "outputs": [],
   "source": [
    "auc_list"
   ]
  },
  {
   "cell_type": "code",
   "execution_count": null,
   "id": "72c898bc-0cda-4aac-912b-2ad66f9f294e",
   "metadata": {},
   "outputs": [],
   "source": [
    "np.array(f1_list).mean()"
   ]
  },
  {
   "cell_type": "code",
   "execution_count": null,
   "id": "18e6dece-2d61-425f-b072-4f29174c790a",
   "metadata": {},
   "outputs": [],
   "source": [
    "np.array(auc_list).mean()"
   ]
  }
 ],
 "metadata": {
  "kernelspec": {
   "display_name": "Python 3 (ipykernel)",
   "language": "python",
   "name": "python3"
  },
  "language_info": {
   "codemirror_mode": {
    "name": "ipython",
    "version": 3
   },
   "file_extension": ".py",
   "mimetype": "text/x-python",
   "name": "python",
   "nbconvert_exporter": "python",
   "pygments_lexer": "ipython3",
   "version": "3.7.0"
  }
 },
 "nbformat": 4,
 "nbformat_minor": 5
}
