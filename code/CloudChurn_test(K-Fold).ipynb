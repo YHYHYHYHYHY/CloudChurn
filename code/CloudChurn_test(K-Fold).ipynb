{
 "cells": [
  {
   "cell_type": "code",
   "execution_count": 1,
   "id": "c75a6b44-b570-4f29-95b9-df7e1aec04c0",
   "metadata": {},
   "outputs": [],
   "source": [
    "import numpy as np\n",
    "import pandas as pd\n",
    "import datetime\n",
    "from tqdm import tqdm\n",
    "import time\n",
    "from datetime import datetime, timedelta\n",
    "import shutil\n",
    "import warnings\n",
    "import matplotlib.pyplot as plt\n",
    "import matplotlib.dates as mdates\n",
    "import matplotlib.ticker as ticker\n",
    "import statsmodels.tsa.api as tsa\n",
    "import torch\n",
    "from pandarallel import pandarallel\n",
    "import seaborn as sns\n",
    "from statsmodels.nonparametric.smoothers_lowess import lowess\n",
    "from sklearn.preprocessing import StandardScaler\n",
    "\n"
   ]
  },
  {
   "cell_type": "code",
   "execution_count": 2,
   "id": "f2a98930-f509-4459-b3f6-9786b6d65c72",
   "metadata": {},
   "outputs": [],
   "source": [
    "X_order = np.load('tmp/sorted_order.npy')\n",
    "X_page = np.load('tmp/sorted_page_day60.npy')\n",
    "X_metric = np.load('tmp/sorted_metric.npy')\n",
    "y = np.load('tmp/sorted_label.npy')"
   ]
  },
  {
   "cell_type": "code",
   "execution_count": 4,
   "id": "741fae38-ab9a-4731-bbd6-59913c207b3b",
   "metadata": {},
   "outputs": [],
   "source": [
    "import argparse\n",
    "parser = argparse.ArgumentParser()\n",
    "parser.add_argument('--d_in', type=int, default=5, help='input size')\n",
    "parser.add_argument('--d_emb', type=int, default=32, help='embedding size')\n",
    "parser.add_argument('--d_model', type=int, default=256, help='dimension of model')\n",
    "parser.add_argument('--d_tar', type=int, default=2, help='dimension of output')\n",
    "args_1 = parser.parse_args(args = [])"
   ]
  },
  {
   "cell_type": "code",
   "execution_count": 5,
   "id": "d5a69b2f-9ef3-4aea-a0a3-4a64310f3158",
   "metadata": {},
   "outputs": [],
   "source": [
    "import argparse\n",
    "parser = argparse.ArgumentParser()\n",
    "d_in = X_page.shape[2] * X_page.shape[3]\n",
    "parser.add_argument('--d_in', type=int, default=d_in, help='input size')\n",
    "parser.add_argument('--d_emb', type=int, default=32, help='embedding size')\n",
    "parser.add_argument('--d_model', type=int, default=256, help='dimension of model')\n",
    "parser.add_argument('--d_tar', type=int, default=2, help='dimension of output')\n",
    "args_2 = parser.parse_args(args = [])"
   ]
  },
  {
   "cell_type": "code",
   "execution_count": 6,
   "id": "145a2cca-a7e5-4fa5-a4a7-6044afa5e74e",
   "metadata": {},
   "outputs": [],
   "source": [
    "parser = argparse.ArgumentParser()\n",
    "parser.add_argument('--args_1', type=argparse.Namespace, default=args_1)\n",
    "parser.add_argument('--args_2', type=argparse.Namespace, default=args_2)\n",
    "parser.add_argument('--batch_size', type=int, default=64, help='batch size')\n",
    "parser.add_argument('--epochs', type=int, default=20, help='training epochs')\n",
    "parser.add_argument('--lr', type=float, default=1e-3, help='learning rate')\n",
    "parser.add_argument('--val_rate', type=float, default=0.1, help='validation rate')\n",
    "args_train_1 = parser.parse_args(args = [])"
   ]
  },
  {
   "cell_type": "code",
   "execution_count": 7,
   "id": "26322205-a412-4b57-88a4-70bcca55edae",
   "metadata": {},
   "outputs": [],
   "source": [
    "parser = argparse.ArgumentParser()\n",
    "parser.add_argument('--args_1', type=argparse.Namespace, default=args_1)\n",
    "parser.add_argument('--args_2', type=argparse.Namespace, default=args_2)\n",
    "parser.add_argument('--batch_size', type=int, default=64, help='batch size')\n",
    "parser.add_argument('--epochs', type=int, default=30, help='training epochs')\n",
    "parser.add_argument('--lr', type=float, default=1e-3, help='learning rate')\n",
    "parser.add_argument('--val_rate', type=float, default=0.1, help='validation rate')\n",
    "args_train_2 = parser.parse_args(args = [])"
   ]
  },
  {
   "cell_type": "code",
   "execution_count": 8,
   "id": "319144ed-51eb-4240-a984-3ca1e27a5d9f",
   "metadata": {},
   "outputs": [],
   "source": [
    "parser = argparse.ArgumentParser()\n",
    "parser.add_argument('--enc_size', type=int, default=18, help='encoder input size')\n",
    "parser.add_argument('--d_model', type=int, default=128, help='dimension of model')\n",
    "parser.add_argument('--e_layers', type=int, default=3, help='num of encoder layers')\n",
    "parser.add_argument('--seq_len', type=int, default=60, help='input sequence length')\n",
    "parser.add_argument('--dropout', type=float, default=0.3, help='dropout')\n",
    "parser.add_argument('--n_head', type=int, default=8, help='num of heads')\n",
    "parser.add_argument('--ffn_hidden', type=int, default=512, help='dimension of hidden layer')\n",
    "\n",
    "parser.add_argument('--clf_choose', type=int, default=2, help='which classifier to use')\n",
    "parser.add_argument('--batch_size', type=int, default=32, help='batch size')\n",
    "parser.add_argument('--epochs', type=int, default=15, help='training epochs')\n",
    "parser.add_argument('--lr', type=float, default=1e-3, help='learning rate')\n",
    "parser.add_argument('--val_rate', type=float, default=0.1, help='validation rate')\n",
    "args_T = parser.parse_args(args = [])"
   ]
  },
  {
   "cell_type": "code",
   "execution_count": 9,
   "id": "684fa6f6-51ed-4ffb-9966-1bde3db9332a",
   "metadata": {},
   "outputs": [],
   "source": [
    "parser = argparse.ArgumentParser()\n",
    "parser.add_argument('--batch_size', type=int, default=32, help='batch size')\n",
    "parser.add_argument('--epochs', type=int, default=10, help='training epochs')\n",
    "parser.add_argument('--lr', type=float, default=1e-4, help='learning rate')\n",
    "parser.add_argument('--val_rate', type=float, default=0.1, help='validation rate')\n",
    "args_finetune = parser.parse_args(args = [])"
   ]
  },
  {
   "cell_type": "code",
   "execution_count": 10,
   "id": "cc3cc8f9-a368-473b-ad98-f0c5d87458a2",
   "metadata": {},
   "outputs": [],
   "source": [
    "parser = argparse.ArgumentParser()\n",
    "parser.add_argument('--args_1', type=argparse.Namespace, default=args_1)\n",
    "parser.add_argument('--args_2', type=argparse.Namespace, default=args_2)\n",
    "parser.add_argument('--args_train_1', type=argparse.Namespace, default=args_train_1)\n",
    "parser.add_argument('--args_train_2', type=argparse.Namespace, default=args_train_2)\n",
    "parser.add_argument('--args_T', type=argparse.Namespace, default=args_T)\n",
    "parser.add_argument('--args_finetune', type=argparse.Namespace, default=args_finetune)\n",
    "parser.add_argument('--verbose', type=bool, default=True)\n",
    "parser.add_argument('--weight_decay', type=float, default=0)\n",
    "args = parser.parse_args(args = [])"
   ]
  },
  {
   "cell_type": "code",
   "execution_count": null,
   "id": "3f3611f7-1717-4f9d-abf4-3c81de91d421",
   "metadata": {},
   "outputs": [],
   "source": [
    "%run models/CloudChurn.py\n",
    "k = 10\n",
    "from sklearn.model_selection import StratifiedKFold\n",
    "f1_list = []\n",
    "auc_list = []\n",
    "precision_list = []\n",
    "acc_list = []\n",
    "sfolder = StratifiedKFold(n_splits=k, shuffle=True)\n",
    "fold_count = 1\n",
    "for train_index, test_index in sfolder.split(np.arange(y.shape[0]), y):\n",
    "    print(\"--------------------- fold {} ----------------------\".format(fold_count))\n",
    "    fold_count += 1\n",
    "    X_train_order = []\n",
    "    X_test_order = []\n",
    "    X_train_page = []\n",
    "    X_test_page = []\n",
    "    X_train_metric = []\n",
    "    X_test_metric = []\n",
    "    y_train = []\n",
    "    y_test = []\n",
    "\n",
    "\n",
    "    for id in train_index:\n",
    "        X_train_order.append(X_order[id])\n",
    "        X_train_page.append(X_page[id])\n",
    "        X_train_metric.append(X_metric[id])\n",
    "        y_train.append(y[id])\n",
    "\n",
    "    for id in test_index:\n",
    "        X_test_order.append(X_order[id])\n",
    "        X_test_page.append(X_page[id])\n",
    "        X_test_metric.append(X_metric[id])\n",
    "        y_test.append(y[id])\n",
    "\n",
    "    X_train_order = np.array(X_train_order)\n",
    "    X_train_page = np.array(X_train_page)\n",
    "    X_train_metric = np.array(X_train_metric)\n",
    "    X_test_order = np.array(X_test_order)\n",
    "    X_test_page = np.array(X_test_page)\n",
    "    X_test_metric = np.array(X_test_metric)\n",
    "\n",
    "    y_train = np.array(y_train)\n",
    "    y_test = np.array(y_test)\n",
    "    \n",
    "    scale = False\n",
    "    if scale:\n",
    "        from sklearn.preprocessing import MinMaxScaler\n",
    "        min_max_scaler = MinMaxScaler()\n",
    "        X_train_order = min_max_scaler.fit_transform(X_train_order)\n",
    "        X_test_order = min_max_scaler.transform(X_test_order)\n",
    "    \n",
    "    X_train_order_t = torch.tensor(X_train_order, dtype=torch.float32)\n",
    "    X_train_page_t = torch.tensor(X_train_page, dtype=torch.float32)\n",
    "    X_train_metric_t = torch.tensor(X_train_metric, dtype=torch.float32)\n",
    "\n",
    "    X_test_order_t = torch.tensor(X_test_order, dtype=torch.float32)\n",
    "    X_test_page_t = torch.tensor(X_test_page, dtype=torch.float32)\n",
    "    X_test_metric_t = torch.tensor(X_test_metric, dtype=torch.float32)\n",
    "\n",
    "    y_train_t = torch.tensor(y_train, dtype=torch.long)\n",
    "    y_test_t = torch.tensor(y_test, dtype=torch.long)\n",
    "    \n",
    "    \n",
    "    # --------------- CloudChurn Test ---------------------------------------------------\n",
    "    args.args_T.clf_choose = 2\n",
    "    args.verbose = False\n",
    "    \n",
    "    model = CloudChurn(args)\n",
    "    model.model_train(X_train_order_t, X_train_page_t, X_train_metric_t, y_train_t)\n",
    "    f1, auc = model.get_metric(X_test_order_t, X_test_page_t, X_test_metric_t, y_test_t)\n",
    "    model.model_test(X_test_order_t, X_test_page_t, X_test_metric_t, y_test_t)\n",
    "    report = model.predict_report(X_test_order_t, X_test_page_t, X_test_metric_t, y_test_t)\n",
    "    precision = float(report[127:132]) # precision\n",
    "    acc = float(report[202:207]) # accuracy\n",
    "    precision_list.append(precision)\n",
    "    acc_list.append(acc)\n",
    "    f1_list.append(f1)\n",
    "    auc_list.append(auc)\n",
    "    "
   ]
  },
  {
   "cell_type": "code",
   "execution_count": null,
   "id": "87cf62cd-e876-45e8-96c5-17c8425ab3e9",
   "metadata": {},
   "outputs": [],
   "source": [
    "f1_list"
   ]
  },
  {
   "cell_type": "code",
   "execution_count": null,
   "id": "18039244-9ca2-4e3c-b792-62173592937e",
   "metadata": {},
   "outputs": [],
   "source": [
    "auc_list"
   ]
  },
  {
   "cell_type": "code",
   "execution_count": null,
   "id": "9990a18c-d422-4752-b108-4169b61c8fbb",
   "metadata": {},
   "outputs": [],
   "source": [
    "np.array(precision_list).mean()"
   ]
  },
  {
   "cell_type": "code",
   "execution_count": null,
   "id": "cd9adf50-d742-4e64-b8ff-f8d86078cdfc",
   "metadata": {},
   "outputs": [],
   "source": [
    "np.array(f1_list)[:,2].mean()"
   ]
  },
  {
   "cell_type": "code",
   "execution_count": null,
   "id": "cba31569-4203-46c7-8256-a1fb7e0ff8be",
   "metadata": {},
   "outputs": [],
   "source": [
    "np.array(acc_list).mean()"
   ]
  },
  {
   "cell_type": "code",
   "execution_count": null,
   "id": "8ab7d4a6-5ec6-4432-93f5-9e27ea0d631f",
   "metadata": {},
   "outputs": [],
   "source": [
    "np.array(auc_list)[:,2].mean()"
   ]
  }
 ],
 "metadata": {
  "kernelspec": {
   "display_name": "Python 3 (ipykernel)",
   "language": "python",
   "name": "python3"
  },
  "language_info": {
   "codemirror_mode": {
    "name": "ipython",
    "version": 3
   },
   "file_extension": ".py",
   "mimetype": "text/x-python",
   "name": "python",
   "nbconvert_exporter": "python",
   "pygments_lexer": "ipython3",
   "version": "3.7.0"
  }
 },
 "nbformat": 4,
 "nbformat_minor": 5
}
