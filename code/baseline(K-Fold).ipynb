{
 "cells": [
  {
   "cell_type": "code",
   "execution_count": 1,
   "id": "c75a6b44-b570-4f29-95b9-df7e1aec04c0",
   "metadata": {},
   "outputs": [],
   "source": [
    "import numpy as np\n",
    "import pandas as pd\n",
    "import datetime\n",
    "from tqdm import tqdm\n",
    "import time\n",
    "from datetime import datetime, timedelta\n",
    "import shutil\n",
    "import warnings\n",
    "import matplotlib.pyplot as plt\n",
    "import matplotlib.dates as mdates\n",
    "import matplotlib.ticker as ticker\n",
    "import statsmodels.tsa.api as tsa\n",
    "import torch\n",
    "from pandarallel import pandarallel\n",
    "import seaborn as sns\n",
    "from statsmodels.nonparametric.smoothers_lowess import lowess\n",
    "from sklearn.preprocessing import StandardScaler\n",
    "\n"
   ]
  },
  {
   "cell_type": "code",
   "execution_count": 2,
   "id": "f2a98930-f509-4459-b3f6-9786b6d65c72",
   "metadata": {},
   "outputs": [],
   "source": [
    "X_order = np.load('tmp/sorted_order.npy')\n",
    "X_page = np.load('tmp/sorted_page_day60.npy')\n",
    "X_metric = np.load('tmp/sorted_metric.npy')\n",
    "y = np.load('tmp/sorted_label.npy')"
   ]
  },
  {
   "cell_type": "code",
   "execution_count": null,
   "id": "3f3611f7-1717-4f9d-abf4-3c81de91d421",
   "metadata": {},
   "outputs": [],
   "source": [
    "k = 10\n",
    "from sklearn.model_selection import StratifiedKFold\n",
    "f1_list = []\n",
    "auc_list = []\n",
    "precision_list = []\n",
    "acc_list = []\n",
    "sfolder = StratifiedKFold(n_splits=k, shuffle=True)\n",
    "fold_count = 1\n",
    "baseline = 'RF'\n",
    "data = 'all'\n",
    "for train_index, test_index in sfolder.split(np.arange(y.shape[0]), y):\n",
    "    print(\"--------------------- fold {} ----------------------\".format(fold_count))\n",
    "    fold_count += 1\n",
    "    X_train_order = []\n",
    "    X_test_order = []\n",
    "    X_train_page = []\n",
    "    X_test_page = []\n",
    "    X_train_metric = []\n",
    "    X_test_metric = []\n",
    "    y_train = []\n",
    "    y_test = []\n",
    "\n",
    "\n",
    "    for id in train_index:\n",
    "        X_train_order.append(X_order[id])\n",
    "        X_train_page.append(X_page[id])\n",
    "        X_train_metric.append(X_metric[id])\n",
    "        y_train.append(y[id])\n",
    "\n",
    "    for id in test_index:\n",
    "        X_test_order.append(X_order[id])\n",
    "        X_test_page.append(X_page[id])\n",
    "        X_test_metric.append(X_metric[id])\n",
    "        y_test.append(y[id])\n",
    "\n",
    "    X_train_order = np.array(X_train_order)\n",
    "    X_train_page = np.array(X_train_page)\n",
    "    X_train_metric = np.array(X_train_metric)\n",
    "    X_test_order = np.array(X_test_order)\n",
    "    X_test_page = np.array(X_test_page)\n",
    "    X_test_metric = np.array(X_test_metric)\n",
    "\n",
    "    y_train = np.array(y_train)\n",
    "    y_test = np.array(y_test)\n",
    "    \n",
    "    scale = False\n",
    "    if scale:\n",
    "        from sklearn.preprocessing import MinMaxScaler\n",
    "        min_max_scaler = MinMaxScaler()\n",
    "        X_train_order = min_max_scaler.fit_transform(X_train_order)\n",
    "        X_test_order = min_max_scaler.transform(X_test_order)\n",
    "    \n",
    "    X_train_order_t = torch.tensor(X_train_order, dtype=torch.float32)\n",
    "    X_train_page_t = torch.tensor(X_train_page, dtype=torch.float32)\n",
    "    X_train_metric_t = torch.tensor(X_train_metric, dtype=torch.float32)\n",
    "\n",
    "    X_test_order_t = torch.tensor(X_test_order, dtype=torch.float32)\n",
    "    X_test_page_t = torch.tensor(X_test_page, dtype=torch.float32)\n",
    "    X_test_metric_t = torch.tensor(X_test_metric, dtype=torch.float32)\n",
    "\n",
    "    y_train_t = torch.tensor(y_train, dtype=torch.long)\n",
    "    y_test_t = torch.tensor(y_test, dtype=torch.long)\n",
    "    \n",
    "    # --------------- RandomForest Test ---------------------------------------------------\n",
    "    if baseline == 'RF':\n",
    "        from sklearn.ensemble import RandomForestClassifier\n",
    "        model = RandomForestClassifier(n_estimators=16)\n",
    "    # --------------- XGBoost Test ---------------------------------------------------\n",
    "    if baseline == 'XGB':\n",
    "        import xgboost\n",
    "        model = xgboost.XGBClassifier(n_estimators=6, max_depth=18, learning_rate=0.2, objective='binary:logistic', subsample=0.5, scale_pos_weight=2, base_score=0.5)\n",
    "    # --------------- SVM Test ---------------------------------------------------\n",
    "    if baseline == 'SVM':\n",
    "        from sklearn.svm import SVC\n",
    "        model = SVC(C=1.0, kernel='rbf')\n",
    "    # --------------- Logistic Regression Test ---------------------------------------------------\n",
    "    if baseline == 'Logistic Regression':\n",
    "        from sklearn.linear_model import LogisticRegression\n",
    "        model = LogisticRegression(penalty='l2')\n",
    "    # --------------- LDA Test ---------------------------------------------------\n",
    "    if baseline == 'LDA':\n",
    "        from sklearn.discriminant_analysis import LinearDiscriminantAnalysis\n",
    "        model = LinearDiscriminantAnalysis()\n",
    "    # --------------- MLP Test ---------------------------------------------------\n",
    "    if baseline == 'MLP':\n",
    "        from sklearn.neural_network import MLPClassifier\n",
    "        model = MLPClassifier(hidden_layer_sizes=[32, 32], max_iter=30, batch_size=64)\n",
    "    # --------------- LSTM Test ---------------------------------------------------\n",
    "    if baseline == 'LSTM':\n",
    "        from models.LSTM import LSTMExp\n",
    "        model = LSTMExp()\n",
    "        \n",
    "    if data == 'order':\n",
    "        model.fit(X_train_order, y_train)\n",
    "        pre_test = model.predict(X_test_order)\n",
    "    if data == 'page':\n",
    "        model.fit(X_train_page.reshape(X_train_page.shape[0], -1), y_train)\n",
    "        pre_test = model.predict(X_test_page.reshape(X_test_page.shape[0], -1))\n",
    "    if data == 'metric':\n",
    "        model.fit(X_train_metric.reshape(X_train_metric.shape[0], -1), y_train)\n",
    "        pre_test = model.predict(X_test_metric.reshape(X_test_metric.shape[0], -1))\n",
    "    if data == 'both':\n",
    "        X_train_both = np.hstack((X_train_order, X_train_page.reshape(X_train_page.shape[0], -1)))\n",
    "        X_test_both = np.hstack((X_test_order, X_test_page.reshape(X_test_page.shape[0], -1)))\n",
    "        model.fit(X_train_both, y_train)\n",
    "        pre_test = model.predict(X_test_both)\n",
    "    if data == 'all':\n",
    "        X_train_all = np.hstack((X_train_order, X_train_page.reshape(X_train_page.shape[0], -1), X_train_metric.reshape(X_train_metric.shape[0], -1)))\n",
    "        X_test_all = np.hstack((X_test_order, X_test_page.reshape(X_test_page.shape[0], -1), X_test_metric.reshape(X_test_metric.shape[0], -1)))\n",
    "        model.fit(X_train_all, y_train)\n",
    "        pre_test = model.predict(X_test_all)\n",
    "    print(classification_report(y_test, pre_test, digits=3))\n",
    "    \n",
    "    precision = float(classification_report(y_test, pre_test, digits=3)[127:132]) # precision\n",
    "    acc = float(classification_report(y_test, pre_test, digits=3)[202:207]) # accuracy\n",
    "    f1 = f1_score(y_test, pre_test)\n",
    "    auc = roc_auc_score(y_test, pre_test)\n",
    "    f1_list.append(f1)\n",
    "    auc_list.append(auc)\n",
    "    precision_list.append(precision)\n",
    "    acc_list.append(acc)"
   ]
  },
  {
   "cell_type": "code",
   "execution_count": null,
   "id": "450ff48f-440d-461c-ae81-e462c584e12e",
   "metadata": {},
   "outputs": [],
   "source": [
    "f1_list"
   ]
  },
  {
   "cell_type": "code",
   "execution_count": null,
   "id": "50f1ef87-9072-453f-8e01-bb88affab7ce",
   "metadata": {},
   "outputs": [],
   "source": [
    "auc_list"
   ]
  },
  {
   "cell_type": "code",
   "execution_count": null,
   "id": "a3e6765f-27af-48bd-a7ea-0cd6e1ad50aa",
   "metadata": {},
   "outputs": [],
   "source": [
    "precision_list"
   ]
  },
  {
   "cell_type": "code",
   "execution_count": null,
   "id": "c171149e-b4ce-4755-aded-ed153427d7d9",
   "metadata": {},
   "outputs": [],
   "source": [
    "acc_list"
   ]
  },
  {
   "cell_type": "code",
   "execution_count": null,
   "id": "0790cbeb-97bc-46aa-ad24-36420f9147a2",
   "metadata": {},
   "outputs": [],
   "source": [
    "np.array(precision_list).mean()"
   ]
  },
  {
   "cell_type": "code",
   "execution_count": null,
   "id": "87cf62cd-e876-45e8-96c5-17c8425ab3e9",
   "metadata": {},
   "outputs": [],
   "source": [
    "np.array(f1_list).mean()"
   ]
  },
  {
   "cell_type": "code",
   "execution_count": null,
   "id": "7ad92d42-d38f-4d4d-b0eb-d14ed38e6ee7",
   "metadata": {},
   "outputs": [],
   "source": [
    "np.array(acc_list).mean()"
   ]
  },
  {
   "cell_type": "code",
   "execution_count": null,
   "id": "18039244-9ca2-4e3c-b792-62173592937e",
   "metadata": {},
   "outputs": [],
   "source": [
    "np.array(auc_list).mean()"
   ]
  }
 ],
 "metadata": {
  "kernelspec": {
   "display_name": "Python 3 (ipykernel)",
   "language": "python",
   "name": "python3"
  },
  "language_info": {
   "codemirror_mode": {
    "name": "ipython",
    "version": 3
   },
   "file_extension": ".py",
   "mimetype": "text/x-python",
   "name": "python",
   "nbconvert_exporter": "python",
   "pygments_lexer": "ipython3",
   "version": "3.7.0"
  }
 },
 "nbformat": 4,
 "nbformat_minor": 5
}
